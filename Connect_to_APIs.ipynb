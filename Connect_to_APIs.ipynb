{
  "nbformat": 4,
  "nbformat_minor": 0,
  "metadata": {
    "colab": {
      "provenance": [],
      "authorship_tag": "ABX9TyPoN3w1DBZxTLPob2dVVSs0",
      "include_colab_link": true
    },
    "kernelspec": {
      "name": "python3",
      "display_name": "Python 3"
    },
    "language_info": {
      "name": "python"
    }
  },
  "cells": [
    {
      "cell_type": "markdown",
      "metadata": {
        "id": "view-in-github",
        "colab_type": "text"
      },
      "source": [
        "<a href=\"https://colab.research.google.com/github/sanamsabooni/Attrition_Rates_of_Workers/blob/main/Connect_to_APIs.ipynb\" target=\"_parent\"><img src=\"https://colab.research.google.com/assets/colab-badge.svg\" alt=\"Open In Colab\"/></a>"
      ]
    },
    {
      "cell_type": "markdown",
      "source": [
        "**Automate Token Renewal**"
      ],
      "metadata": {
        "id": "Nk1gagzoXIow"
      }
    },
    {
      "cell_type": "code",
      "source": [
        "import requests\n",
        "import json\n",
        "\n",
        "# Your Zoho API credentials\n",
        "CLIENT_ID = '1000.YMECBOG5M2VOMPFU0FJI5YED0JX3XX'\n",
        "CLIENT_SECRET = '0747da4549e31db730835243ffe9008c58514af154'\n",
        "REFRESH_TOKEN = '1000.729179886aae591f83b312ad058916c4.7c87cdc83e04efc88e9b013825ba28d4'\n",
        "TOKEN_URL = 'https://accounts.zoho.com/oauth/v2/token'\n",
        "\n",
        "def refresh_access_token():\n",
        "    data = {\n",
        "        'refresh_token': REFRESH_TOKEN,\n",
        "        'client_id': CLIENT_ID,\n",
        "        'client_secret': CLIENT_SECRET,\n",
        "        'grant_type': 'refresh_token'\n",
        "    }\n",
        "\n",
        "    response = requests.post(TOKEN_URL, data=data)\n",
        "    if response.status_code == 200:\n",
        "        access_token = response.json().get('access_token')\n",
        "        print(\"New Access Token:\", access_token)\n",
        "\n",
        "        # Save the token to a file for future use\n",
        "        with open(\"access_token.json\", \"w\") as token_file:\n",
        "            json.dump({\"access_token\": access_token}, token_file)\n",
        "\n",
        "        return access_token\n",
        "    else:\n",
        "        print(\"Failed to refresh access token:\", response.json())\n",
        "        return None\n",
        "\n",
        "# Refresh the token and store it\n",
        "access_token = refresh_access_token()\n"
      ],
      "metadata": {
        "colab": {
          "base_uri": "https://localhost:8080/"
        },
        "id": "vYhdZq7GZ-UW",
        "outputId": "f0f9a1df-ec5f-49f2-bf6e-e755d414f64b"
      },
      "execution_count": 5,
      "outputs": [
        {
          "output_type": "stream",
          "name": "stdout",
          "text": [
            "New Access Token: 1000.1ad94b6e1cb8b7878f7b448abd52d959.87ea3bf53046560088e2ceff3cc18208\n"
          ]
        }
      ]
    },
    {
      "cell_type": "markdown",
      "source": [
        " **Retrieve Modules and Extract**"
      ],
      "metadata": {
        "id": "1c-QYYapaDij"
      }
    },
    {
      "cell_type": "code",
      "source": [
        "import requests\n",
        "import json\n",
        "\n",
        "# Load the access token from the saved file\n",
        "def get_access_token():\n",
        "    with open(\"access_token.json\", \"r\") as token_file:\n",
        "        token_data = json.load(token_file)\n",
        "        return token_data[\"access_token\"]\n",
        "\n",
        "# API URL to fetch modules\n",
        "MODULES_URL = \"https://www.zohoapis.com/crm/v2/settings/modules\"\n",
        "\n",
        "def get_modules():\n",
        "    access_token = get_access_token()\n",
        "    headers = {\n",
        "        'Authorization': f'Bearer {access_token}'\n",
        "    }\n",
        "\n",
        "    response = requests.get(MODULES_URL, headers=headers)\n",
        "\n",
        "    if response.status_code == 200:\n",
        "        modules = response.json().get('modules', [])\n",
        "\n",
        "        # Extract module names and IDs\n",
        "        module_details = [{\"name\": mod[\"api_name\"], \"id\": mod[\"id\"]} for mod in modules]\n",
        "\n",
        "        print(\"Retrieved Modules:\")\n",
        "        for module in module_details:\n",
        "            print(f\"Module Name: {module['name']}, ID: {module['id']}\")\n",
        "\n",
        "        # Save modules to a file\n",
        "        with open(\"zoho_modules.json\", \"w\") as f:\n",
        "            json.dump(module_details, f, indent=4)\n",
        "\n",
        "        return module_details\n",
        "    else:\n",
        "        print(\"Error fetching modules:\", response.json())\n",
        "        return None\n",
        "\n",
        "# Fetch modules from Zoho CRM\n",
        "get_modules()\n"
      ],
      "metadata": {
        "colab": {
          "base_uri": "https://localhost:8080/"
        },
        "id": "6-GY9ItIaCJQ",
        "outputId": "cf852b0d-2f15-45f0-a325-7f4e6da158f5"
      },
      "execution_count": 6,
      "outputs": [
        {
          "output_type": "stream",
          "name": "stdout",
          "text": [
            "Retrieved Modules:\n",
            "Module Name: Feeds, ID: 525504000007868001\n",
            "Module Name: CustomModule5001, ID: 525504000077920803\n",
            "Module Name: SalesInbox, ID: 525504000018145001\n",
            "Module Name: Home, ID: 525504000000002173\n",
            "Module Name: Accounts, ID: 525504000000002177\n",
            "Module Name: Sales_Orders, ID: 525504000000002221\n",
            "Module Name: Invoices, ID: 525504000000002225\n",
            "Module Name: Cancellations, ID: 525504000005752935\n",
            "Module Name: ACH_Reject, ID: 525504000005832557\n",
            "Module Name: Cases, ID: 525504000000002209\n",
            "Module Name: Account_Analysis, ID: 525504000005894240\n",
            "Module Name: Tin_Invalid, ID: 525504000005832158\n",
            "Module Name: Reports, ID: 525504000000002185\n",
            "Module Name: Products, ID: 525504000000002213\n",
            "Module Name: Notes, ID: 525504000000002197\n",
            "Module Name: Documents, ID: 525504000002936001\n",
            "Module Name: Solutions, ID: 525504000000002211\n",
            "Module Name: Purchase_Orders, ID: 525504000000002223\n",
            "Module Name: Leads, ID: 525504000000002175\n",
            "Module Name: Collections, ID: 525504000008251239\n",
            "Module Name: Status_History, ID: 525504000048770010\n",
            "Module Name: clicksendext__Clicksend_SMS, ID: 525504000052007007\n",
            "Module Name: zohosign__ZohoSign_Documents, ID: 525504000068850007\n",
            "Module Name: zohosign__ZohoSign_Recipients, ID: 525504000068850932\n",
            "Module Name: zohosign__ZohoSign_Document_Events, ID: 525504000068851857\n",
            "Module Name: docusign1__Envelopes, ID: 525504000083905007\n",
            "Module Name: docusign1__Envelope_Recipients, ID: 525504000083905991\n",
            "Module Name: docusign1__Envelope_Events, ID: 525504000083906975\n",
            "Module Name: smsmagic4__SMS_History, ID: 525504000089350009\n",
            "Module Name: smsmagic4__SMS_Template, ID: 525504000089350995\n",
            "Module Name: smsmagic4__SMS_SenderId, ID: 525504000089351979\n",
            "Module Name: Attachments, ID: 525504000000002227\n",
            "Module Name: Contacts, ID: 525504000000002179\n",
            "Module Name: Deals, ID: 525504000000002181\n",
            "Module Name: Actions_Performed, ID: 525504000024179005\n",
            "Module Name: Zoho_Books, ID: 525504000077929435\n",
            "Module Name: Converse_Desk, ID: 525504000097350957\n",
            "Module Name: Contacts_X_Accounts, ID: 525504000118769251\n",
            "Module Name: Contacts_X_Accounts2, ID: 525504000135384032\n"
          ]
        },
        {
          "output_type": "execute_result",
          "data": {
            "text/plain": [
              "[{'name': 'Feeds', 'id': '525504000007868001'},\n",
              " {'name': 'CustomModule5001', 'id': '525504000077920803'},\n",
              " {'name': 'SalesInbox', 'id': '525504000018145001'},\n",
              " {'name': 'Home', 'id': '525504000000002173'},\n",
              " {'name': 'Accounts', 'id': '525504000000002177'},\n",
              " {'name': 'Sales_Orders', 'id': '525504000000002221'},\n",
              " {'name': 'Invoices', 'id': '525504000000002225'},\n",
              " {'name': 'Cancellations', 'id': '525504000005752935'},\n",
              " {'name': 'ACH_Reject', 'id': '525504000005832557'},\n",
              " {'name': 'Cases', 'id': '525504000000002209'},\n",
              " {'name': 'Account_Analysis', 'id': '525504000005894240'},\n",
              " {'name': 'Tin_Invalid', 'id': '525504000005832158'},\n",
              " {'name': 'Reports', 'id': '525504000000002185'},\n",
              " {'name': 'Products', 'id': '525504000000002213'},\n",
              " {'name': 'Notes', 'id': '525504000000002197'},\n",
              " {'name': 'Documents', 'id': '525504000002936001'},\n",
              " {'name': 'Solutions', 'id': '525504000000002211'},\n",
              " {'name': 'Purchase_Orders', 'id': '525504000000002223'},\n",
              " {'name': 'Leads', 'id': '525504000000002175'},\n",
              " {'name': 'Collections', 'id': '525504000008251239'},\n",
              " {'name': 'Status_History', 'id': '525504000048770010'},\n",
              " {'name': 'clicksendext__Clicksend_SMS', 'id': '525504000052007007'},\n",
              " {'name': 'zohosign__ZohoSign_Documents', 'id': '525504000068850007'},\n",
              " {'name': 'zohosign__ZohoSign_Recipients', 'id': '525504000068850932'},\n",
              " {'name': 'zohosign__ZohoSign_Document_Events', 'id': '525504000068851857'},\n",
              " {'name': 'docusign1__Envelopes', 'id': '525504000083905007'},\n",
              " {'name': 'docusign1__Envelope_Recipients', 'id': '525504000083905991'},\n",
              " {'name': 'docusign1__Envelope_Events', 'id': '525504000083906975'},\n",
              " {'name': 'smsmagic4__SMS_History', 'id': '525504000089350009'},\n",
              " {'name': 'smsmagic4__SMS_Template', 'id': '525504000089350995'},\n",
              " {'name': 'smsmagic4__SMS_SenderId', 'id': '525504000089351979'},\n",
              " {'name': 'Attachments', 'id': '525504000000002227'},\n",
              " {'name': 'Contacts', 'id': '525504000000002179'},\n",
              " {'name': 'Deals', 'id': '525504000000002181'},\n",
              " {'name': 'Actions_Performed', 'id': '525504000024179005'},\n",
              " {'name': 'Zoho_Books', 'id': '525504000077929435'},\n",
              " {'name': 'Converse_Desk', 'id': '525504000097350957'},\n",
              " {'name': 'Contacts_X_Accounts', 'id': '525504000118769251'},\n",
              " {'name': 'Contacts_X_Accounts2', 'id': '525504000135384032'}]"
            ]
          },
          "metadata": {},
          "execution_count": 6
        }
      ]
    }
  ]
}